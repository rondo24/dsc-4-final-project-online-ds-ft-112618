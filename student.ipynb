{
 "cells": [
  {
   "cell_type": "markdown",
   "metadata": {},
   "source": [
    "## Final Project Submission\n",
    "\n",
    "Please fill out:\n",
    "* Student name: Andrew Rohlman\n",
    "* Student pace: Full Time\n",
    "* Scheduled project review date/time: 3/22 at 12:00 PM CT\n",
    "* Instructor name: Rafael Carrasco\n",
    "* Blog post URL: https://rondo24.github.io/developing_patience_and_understanding_with_cnns\n"
   ]
  },
  {
   "cell_type": "markdown",
   "metadata": {},
   "source": [
    "## Classifying Traffic Signs for Self Driving Cars\n",
    "\n",
    "With self driving cars becoming more prevalent today, accuracy in their systems is crucial to getting passengers to their destinations safely and to reduce automobile accidents. One of the key systems in a self driving car is recognizing traffic signs and knowing what the vehicle should do in each scenario. The way self driving cars can recognize and classify a traffic sign is to analyze an image of the sign and run it through a Deep Convolutional Neural Network (CNN) for identification. I am tasked with creating a CNN that can classify these traffic signs. I was given over 30,000 images of 43 different traffic signs to create the CNN architecture to correctly train and classify them.\n",
    "\n",
    "Here is my approach to create this CNN:\n",
    "\n",
    "1) Pre process the training images (i will use 10,000 of the 30,000 images for training and validation to reduce computing time)\n",
    "\n",
    "2) Place my training images into a numpy array\n",
    "\n",
    "3) Develop and train and update a CNN\n",
    "\n",
    "4) Use our final CNN on the testing data (12,000 test images)"
   ]
  },
  {
   "cell_type": "markdown",
   "metadata": {},
   "source": [
    "First thing I want to do is import all necessary libraries for the task"
   ]
  },
  {
   "cell_type": "code",
   "execution_count": 1,
   "metadata": {},
   "outputs": [
    {
     "name": "stderr",
     "output_type": "stream",
     "text": [
      "Using TensorFlow backend.\n"
     ]
    }
   ],
   "source": [
    "import numpy as np #converting images into numpy arrays\n",
    "import pandas as pd #used to pull the testing classifications\n",
    "import matplotlib.pyplot as plt #visualize the CNN epoch training\n",
    "%matplotlib inline \n",
    "\n",
    "from sklearn.model_selection import train_test_split\n",
    "\n",
    "#libraries for creating the Convolutional Neural Network\n",
    "from keras import layers, models, optimizers\n",
    "from keras.models import Sequential\n",
    "from keras.layers.core import Dense, Dropout, Activation, Flatten\n",
    "from keras.layers.convolutional import Conv2D\n",
    "from keras.layers.pooling import MaxPooling2D\n",
    "from keras.preprocessing.image import ImageDataGenerator\n",
    "from keras import backend as K\n",
    "K.set_image_data_format('channels_first')\n",
    "\n",
    "#Used for image preprocessing\n",
    "from skimage import color, exposure, transform\n",
    "from skimage import io\n",
    "\n",
    "#Used for converting images into our numpy arrays\n",
    "import os\n",
    "import glob\n",
    "import re\n",
    "\n",
    "import warnings\n",
    "warnings.filterwarnings('ignore')"
   ]
  },
  {
   "cell_type": "markdown",
   "metadata": {},
   "source": [
    "The first step in this process is pre processing our images for our CNN to analyze our images more easily. Not all the images are the same size or are cropped to easily recognize the signs in the pictures. Also, there are different shades of colors depending on the angles the images are of the sign. So the below \"preprocess\" function with take any image inputted and pre process them for these attributes. Credit for guidance on the preprocessing code goes to: https://chsasank.github.io/"
   ]
  },
  {
   "cell_type": "code",
   "execution_count": 2,
   "metadata": {},
   "outputs": [],
   "source": [
    "#The below code are the preprocessing steps taken for each photo before I train a CNN on them:\n",
    "\n",
    "# 1) normalize the colors\n",
    "# 2) crop the images to squares\n",
    "# 3) scale the images to 48 X 48\n",
    "# 4) bring the color axis back to 0\n",
    "\n",
    "NUM_CLASSES = 43\n",
    "\n",
    "def preprocess(img):\n",
    "    # normalize image\n",
    "    hist = color.rgb2hsv(img)\n",
    "    hist[:, :, 2] = exposure.equalize_hist(hist[:, :, 2])\n",
    "    img = color.hsv2rgb(hist)\n",
    "\n",
    "    # crop image\n",
    "    min_side = min(img.shape[:-1])\n",
    "    centre = img.shape[0] // 2, img.shape[1] // 2\n",
    "    img = img[centre[0] - min_side // 2:centre[0] + min_side // 2, centre[1] - min_side // 2:centre[1] + min_side // 2, :]\n",
    "\n",
    "    # rescale to a standard size\n",
    "    img = transform.resize(img, (48, 48))\n",
    "\n",
    "    # roll color axis\n",
    "    img = np.rollaxis(img, -1)\n",
    "\n",
    "    return img"
   ]
  },
  {
   "cell_type": "markdown",
   "metadata": {},
   "source": [
    "The next step was using our pre processing function above in conjunction with our code below that takes all of our images, pre processes them, and converts them to numpy arrays, making it easier for us to split the training data into validation data as well."
   ]
  },
  {
   "cell_type": "code",
   "execution_count": 3,
   "metadata": {},
   "outputs": [],
   "source": [
    "# transform our images into numpy vectors, so that I can cut the amount of training data down for my machine\n",
    "# to be able to handle, as well as easily train test split the data into validation images as well\n",
    "# Credit for code help goes to https://chsasank.github.io/\n",
    "\n",
    "def class_i(image_path):\n",
    "    return int(image_path.split('\\\\')[-2])\n",
    "\n",
    "root = 'GTSRB/Final_Training/Images/'\n",
    "imgs = []\n",
    "labels = []\n",
    "\n",
    "all_img_paths = glob.glob(os.path.join(root, '*/*.ppm'))\n",
    "np.random.shuffle(all_img_paths)\n",
    "for img_path in all_img_paths:\n",
    "    img = preprocess(io.imread(img_path))\n",
    "    label = class_i(img_path)\n",
    "    imgs.append(img)\n",
    "    labels.append(label)\n",
    "\n",
    "X = np.array(imgs, dtype='float32')\n",
    "# Make one hot targets\n",
    "Y = np.eye(NUM_CLASSES, dtype='uint8')[labels]\n"
   ]
  },
  {
   "cell_type": "code",
   "execution_count": 8,
   "metadata": {},
   "outputs": [],
   "source": [
    "# so my machine can handle the training at a reasonable speed, I cut the amount of training data from over 30,000 images \n",
    "# to 10,000\n",
    "X1 = X[:10000]\n",
    "Y1 = Y[:10000]"
   ]
  },
  {
   "cell_type": "markdown",
   "metadata": {},
   "source": [
    "Now that our training data is pre processed and put into numpy arrays, we can now develop a convolutional neural network that can hopefully classify our images into their correct labels with the highest accuracy. My initial approach will be to create 4 convolutional layers which will filter through our images and detect patterns to recognize and seperate the different types of signs."
   ]
  },
  {
   "cell_type": "code",
   "execution_count": 9,
   "metadata": {},
   "outputs": [],
   "source": [
    "model = models.Sequential()\n",
    "\n",
    "# our first convolutional layer to detect patterns in our images\n",
    "model.add(layers.Conv2D(16, (3, 3), padding='same', input_shape=(3, 48, 48),activation='relu'))  \n",
    "\n",
    "# our second convolutional layer to detect patterns in our images\n",
    "model.add(layers.Conv2D(16, (3, 3), activation='relu'))\n",
    "model.add(layers.MaxPooling2D(pool_size=(2, 2))) #pools our results from the convolutional layer to a smaller size to reduce the amount of work needed\n",
    "model.add(layers.Dropout(0.2)) #drops the least important weights from the pooled convolutonal layer to reduce risk of overfitting\n",
    "\n",
    "#we repeat the above with another set of convolutional layers with more neurons to detect more unique patterns in our images\n",
    "model.add(layers.Conv2D(32, (3, 3), padding='same',activation='relu'))\n",
    "\n",
    "model.add(layers.Conv2D(32, (3, 3), activation='relu'))\n",
    "model.add(layers.MaxPooling2D(pool_size=(2, 2)))\n",
    "model.add(layers.Dropout(0.2))\n",
    "\n",
    "model.add(layers.Flatten()) #flattens our convolutional layers so that our output layer can read the results from a multi dimensional vector to a simpler vector\n",
    "model.add(layers.Dense(512, activation='relu')) \n",
    "model.add(layers.Dropout(0.5))\n",
    "model.add(layers.Dense(NUM_CLASSES, activation='softmax'))"
   ]
  },
  {
   "cell_type": "markdown",
   "metadata": {},
   "source": [
    "Below is a summary and visual of what the network looks like."
   ]
  },
  {
   "cell_type": "code",
   "execution_count": 10,
   "metadata": {
    "scrolled": true
   },
   "outputs": [
    {
     "name": "stdout",
     "output_type": "stream",
     "text": [
      "_________________________________________________________________\n",
      "Layer (type)                 Output Shape              Param #   \n",
      "=================================================================\n",
      "conv2d_1 (Conv2D)            (None, 16, 48, 48)        448       \n",
      "_________________________________________________________________\n",
      "conv2d_2 (Conv2D)            (None, 16, 46, 46)        2320      \n",
      "_________________________________________________________________\n",
      "max_pooling2d_1 (MaxPooling2 (None, 16, 23, 23)        0         \n",
      "_________________________________________________________________\n",
      "dropout_1 (Dropout)          (None, 16, 23, 23)        0         \n",
      "_________________________________________________________________\n",
      "conv2d_3 (Conv2D)            (None, 32, 23, 23)        4640      \n",
      "_________________________________________________________________\n",
      "conv2d_4 (Conv2D)            (None, 32, 21, 21)        9248      \n",
      "_________________________________________________________________\n",
      "max_pooling2d_2 (MaxPooling2 (None, 32, 10, 10)        0         \n",
      "_________________________________________________________________\n",
      "dropout_2 (Dropout)          (None, 32, 10, 10)        0         \n",
      "_________________________________________________________________\n",
      "flatten_1 (Flatten)          (None, 3200)              0         \n",
      "_________________________________________________________________\n",
      "dense_1 (Dense)              (None, 512)               1638912   \n",
      "_________________________________________________________________\n",
      "dropout_3 (Dropout)          (None, 512)               0         \n",
      "_________________________________________________________________\n",
      "dense_2 (Dense)              (None, 43)                22059     \n",
      "=================================================================\n",
      "Total params: 1,677,627\n",
      "Trainable params: 1,677,627\n",
      "Non-trainable params: 0\n",
      "_________________________________________________________________\n"
     ]
    }
   ],
   "source": [
    "model.summary()"
   ]
  },
  {
   "cell_type": "code",
   "execution_count": 11,
   "metadata": {},
   "outputs": [
    {
     "data": {
      "image/svg+xml": [
       "<svg height=\"921pt\" viewBox=\"0.00 0.00 217.00 921.00\" width=\"217pt\" xmlns=\"http://www.w3.org/2000/svg\" xmlns:xlink=\"http://www.w3.org/1999/xlink\">\n",
       "<g class=\"graph\" id=\"graph0\" transform=\"scale(1 1) rotate(0) translate(4 917)\">\n",
       "<title>G</title>\n",
       "<polygon fill=\"white\" points=\"-4,4 -4,-917 213,-917 213,4 -4,4\" stroke=\"none\"/>\n",
       "<!-- 2248029025840 -->\n",
       "<g class=\"node\" id=\"node1\"><title>2248029025840</title>\n",
       "<polygon fill=\"none\" points=\"41,-803.5 41,-839.5 168,-839.5 168,-803.5 41,-803.5\" stroke=\"black\"/>\n",
       "<text font-family=\"Times New Roman,serif\" font-size=\"14.00\" text-anchor=\"middle\" x=\"104.5\" y=\"-817.8\">conv2d_1: Conv2D</text>\n",
       "</g>\n",
       "<!-- 2247784525664 -->\n",
       "<g class=\"node\" id=\"node2\"><title>2247784525664</title>\n",
       "<polygon fill=\"none\" points=\"41,-730.5 41,-766.5 168,-766.5 168,-730.5 41,-730.5\" stroke=\"black\"/>\n",
       "<text font-family=\"Times New Roman,serif\" font-size=\"14.00\" text-anchor=\"middle\" x=\"104.5\" y=\"-744.8\">conv2d_2: Conv2D</text>\n",
       "</g>\n",
       "<!-- 2248029025840&#45;&gt;2247784525664 -->\n",
       "<g class=\"edge\" id=\"edge2\"><title>2248029025840-&gt;2247784525664</title>\n",
       "<path d=\"M104.5,-803.313C104.5,-795.289 104.5,-785.547 104.5,-776.569\" fill=\"none\" stroke=\"black\"/>\n",
       "<polygon fill=\"black\" points=\"108,-776.529 104.5,-766.529 101,-776.529 108,-776.529\" stroke=\"black\"/>\n",
       "</g>\n",
       "<!-- 2247784778384 -->\n",
       "<g class=\"node\" id=\"node3\"><title>2247784778384</title>\n",
       "<polygon fill=\"none\" points=\"0,-657.5 0,-693.5 209,-693.5 209,-657.5 0,-657.5\" stroke=\"black\"/>\n",
       "<text font-family=\"Times New Roman,serif\" font-size=\"14.00\" text-anchor=\"middle\" x=\"104.5\" y=\"-671.8\">max_pooling2d_1: MaxPooling2D</text>\n",
       "</g>\n",
       "<!-- 2247784525664&#45;&gt;2247784778384 -->\n",
       "<g class=\"edge\" id=\"edge3\"><title>2247784525664-&gt;2247784778384</title>\n",
       "<path d=\"M104.5,-730.313C104.5,-722.289 104.5,-712.547 104.5,-703.569\" fill=\"none\" stroke=\"black\"/>\n",
       "<polygon fill=\"black\" points=\"108,-703.529 104.5,-693.529 101,-703.529 108,-703.529\" stroke=\"black\"/>\n",
       "</g>\n",
       "<!-- 2247784193384 -->\n",
       "<g class=\"node\" id=\"node4\"><title>2247784193384</title>\n",
       "<polygon fill=\"none\" points=\"39.5,-584.5 39.5,-620.5 169.5,-620.5 169.5,-584.5 39.5,-584.5\" stroke=\"black\"/>\n",
       "<text font-family=\"Times New Roman,serif\" font-size=\"14.00\" text-anchor=\"middle\" x=\"104.5\" y=\"-598.8\">dropout_1: Dropout</text>\n",
       "</g>\n",
       "<!-- 2247784778384&#45;&gt;2247784193384 -->\n",
       "<g class=\"edge\" id=\"edge4\"><title>2247784778384-&gt;2247784193384</title>\n",
       "<path d=\"M104.5,-657.313C104.5,-649.289 104.5,-639.547 104.5,-630.569\" fill=\"none\" stroke=\"black\"/>\n",
       "<polygon fill=\"black\" points=\"108,-630.529 104.5,-620.529 101,-630.529 108,-630.529\" stroke=\"black\"/>\n",
       "</g>\n",
       "<!-- 2247784193216 -->\n",
       "<g class=\"node\" id=\"node5\"><title>2247784193216</title>\n",
       "<polygon fill=\"none\" points=\"41,-511.5 41,-547.5 168,-547.5 168,-511.5 41,-511.5\" stroke=\"black\"/>\n",
       "<text font-family=\"Times New Roman,serif\" font-size=\"14.00\" text-anchor=\"middle\" x=\"104.5\" y=\"-525.8\">conv2d_3: Conv2D</text>\n",
       "</g>\n",
       "<!-- 2247784193384&#45;&gt;2247784193216 -->\n",
       "<g class=\"edge\" id=\"edge5\"><title>2247784193384-&gt;2247784193216</title>\n",
       "<path d=\"M104.5,-584.313C104.5,-576.289 104.5,-566.547 104.5,-557.569\" fill=\"none\" stroke=\"black\"/>\n",
       "<polygon fill=\"black\" points=\"108,-557.529 104.5,-547.529 101,-557.529 108,-557.529\" stroke=\"black\"/>\n",
       "</g>\n",
       "<!-- 2247784777824 -->\n",
       "<g class=\"node\" id=\"node6\"><title>2247784777824</title>\n",
       "<polygon fill=\"none\" points=\"41,-438.5 41,-474.5 168,-474.5 168,-438.5 41,-438.5\" stroke=\"black\"/>\n",
       "<text font-family=\"Times New Roman,serif\" font-size=\"14.00\" text-anchor=\"middle\" x=\"104.5\" y=\"-452.8\">conv2d_4: Conv2D</text>\n",
       "</g>\n",
       "<!-- 2247784193216&#45;&gt;2247784777824 -->\n",
       "<g class=\"edge\" id=\"edge6\"><title>2247784193216-&gt;2247784777824</title>\n",
       "<path d=\"M104.5,-511.313C104.5,-503.289 104.5,-493.547 104.5,-484.569\" fill=\"none\" stroke=\"black\"/>\n",
       "<polygon fill=\"black\" points=\"108,-484.529 104.5,-474.529 101,-484.529 108,-484.529\" stroke=\"black\"/>\n",
       "</g>\n",
       "<!-- 2247786585336 -->\n",
       "<g class=\"node\" id=\"node7\"><title>2247786585336</title>\n",
       "<polygon fill=\"none\" points=\"0,-365.5 0,-401.5 209,-401.5 209,-365.5 0,-365.5\" stroke=\"black\"/>\n",
       "<text font-family=\"Times New Roman,serif\" font-size=\"14.00\" text-anchor=\"middle\" x=\"104.5\" y=\"-379.8\">max_pooling2d_2: MaxPooling2D</text>\n",
       "</g>\n",
       "<!-- 2247784777824&#45;&gt;2247786585336 -->\n",
       "<g class=\"edge\" id=\"edge7\"><title>2247784777824-&gt;2247786585336</title>\n",
       "<path d=\"M104.5,-438.313C104.5,-430.289 104.5,-420.547 104.5,-411.569\" fill=\"none\" stroke=\"black\"/>\n",
       "<polygon fill=\"black\" points=\"108,-411.529 104.5,-401.529 101,-411.529 108,-411.529\" stroke=\"black\"/>\n",
       "</g>\n",
       "<!-- 2247785000296 -->\n",
       "<g class=\"node\" id=\"node8\"><title>2247785000296</title>\n",
       "<polygon fill=\"none\" points=\"39.5,-292.5 39.5,-328.5 169.5,-328.5 169.5,-292.5 39.5,-292.5\" stroke=\"black\"/>\n",
       "<text font-family=\"Times New Roman,serif\" font-size=\"14.00\" text-anchor=\"middle\" x=\"104.5\" y=\"-306.8\">dropout_2: Dropout</text>\n",
       "</g>\n",
       "<!-- 2247786585336&#45;&gt;2247785000296 -->\n",
       "<g class=\"edge\" id=\"edge8\"><title>2247786585336-&gt;2247785000296</title>\n",
       "<path d=\"M104.5,-365.313C104.5,-357.289 104.5,-347.547 104.5,-338.569\" fill=\"none\" stroke=\"black\"/>\n",
       "<polygon fill=\"black\" points=\"108,-338.529 104.5,-328.529 101,-338.529 108,-338.529\" stroke=\"black\"/>\n",
       "</g>\n",
       "<!-- 2247786585168 -->\n",
       "<g class=\"node\" id=\"node9\"><title>2247786585168</title>\n",
       "<polygon fill=\"none\" points=\"50,-219.5 50,-255.5 159,-255.5 159,-219.5 50,-219.5\" stroke=\"black\"/>\n",
       "<text font-family=\"Times New Roman,serif\" font-size=\"14.00\" text-anchor=\"middle\" x=\"104.5\" y=\"-233.8\">flatten_1: Flatten</text>\n",
       "</g>\n",
       "<!-- 2247785000296&#45;&gt;2247786585168 -->\n",
       "<g class=\"edge\" id=\"edge9\"><title>2247785000296-&gt;2247786585168</title>\n",
       "<path d=\"M104.5,-292.313C104.5,-284.289 104.5,-274.547 104.5,-265.569\" fill=\"none\" stroke=\"black\"/>\n",
       "<polygon fill=\"black\" points=\"108,-265.529 104.5,-255.529 101,-265.529 108,-265.529\" stroke=\"black\"/>\n",
       "</g>\n",
       "<!-- 2247786372960 -->\n",
       "<g class=\"node\" id=\"node10\"><title>2247786372960</title>\n",
       "<polygon fill=\"none\" points=\"52.5,-146.5 52.5,-182.5 156.5,-182.5 156.5,-146.5 52.5,-146.5\" stroke=\"black\"/>\n",
       "<text font-family=\"Times New Roman,serif\" font-size=\"14.00\" text-anchor=\"middle\" x=\"104.5\" y=\"-160.8\">dense_1: Dense</text>\n",
       "</g>\n",
       "<!-- 2247786585168&#45;&gt;2247786372960 -->\n",
       "<g class=\"edge\" id=\"edge10\"><title>2247786585168-&gt;2247786372960</title>\n",
       "<path d=\"M104.5,-219.313C104.5,-211.289 104.5,-201.547 104.5,-192.569\" fill=\"none\" stroke=\"black\"/>\n",
       "<polygon fill=\"black\" points=\"108,-192.529 104.5,-182.529 101,-192.529 108,-192.529\" stroke=\"black\"/>\n",
       "</g>\n",
       "<!-- 2249986858456 -->\n",
       "<g class=\"node\" id=\"node11\"><title>2249986858456</title>\n",
       "<polygon fill=\"none\" points=\"39.5,-73.5 39.5,-109.5 169.5,-109.5 169.5,-73.5 39.5,-73.5\" stroke=\"black\"/>\n",
       "<text font-family=\"Times New Roman,serif\" font-size=\"14.00\" text-anchor=\"middle\" x=\"104.5\" y=\"-87.8\">dropout_3: Dropout</text>\n",
       "</g>\n",
       "<!-- 2247786372960&#45;&gt;2249986858456 -->\n",
       "<g class=\"edge\" id=\"edge11\"><title>2247786372960-&gt;2249986858456</title>\n",
       "<path d=\"M104.5,-146.313C104.5,-138.289 104.5,-128.547 104.5,-119.569\" fill=\"none\" stroke=\"black\"/>\n",
       "<polygon fill=\"black\" points=\"108,-119.529 104.5,-109.529 101,-119.529 108,-119.529\" stroke=\"black\"/>\n",
       "</g>\n",
       "<!-- 2247783659840 -->\n",
       "<g class=\"node\" id=\"node12\"><title>2247783659840</title>\n",
       "<polygon fill=\"none\" points=\"52.5,-0.5 52.5,-36.5 156.5,-36.5 156.5,-0.5 52.5,-0.5\" stroke=\"black\"/>\n",
       "<text font-family=\"Times New Roman,serif\" font-size=\"14.00\" text-anchor=\"middle\" x=\"104.5\" y=\"-14.8\">dense_2: Dense</text>\n",
       "</g>\n",
       "<!-- 2249986858456&#45;&gt;2247783659840 -->\n",
       "<g class=\"edge\" id=\"edge12\"><title>2249986858456-&gt;2247783659840</title>\n",
       "<path d=\"M104.5,-73.3129C104.5,-65.2895 104.5,-55.5475 104.5,-46.5691\" fill=\"none\" stroke=\"black\"/>\n",
       "<polygon fill=\"black\" points=\"108,-46.5288 104.5,-36.5288 101,-46.5289 108,-46.5288\" stroke=\"black\"/>\n",
       "</g>\n",
       "<!-- 2247784614376 -->\n",
       "<g class=\"node\" id=\"node13\"><title>2247784614376</title>\n",
       "<polygon fill=\"none\" points=\"52.5,-876.5 52.5,-912.5 156.5,-912.5 156.5,-876.5 52.5,-876.5\" stroke=\"black\"/>\n",
       "<text font-family=\"Times New Roman,serif\" font-size=\"14.00\" text-anchor=\"middle\" x=\"104.5\" y=\"-890.8\">2247784614376</text>\n",
       "</g>\n",
       "<!-- 2247784614376&#45;&gt;2248029025840 -->\n",
       "<g class=\"edge\" id=\"edge1\"><title>2247784614376-&gt;2248029025840</title>\n",
       "<path d=\"M104.5,-876.313C104.5,-868.289 104.5,-858.547 104.5,-849.569\" fill=\"none\" stroke=\"black\"/>\n",
       "<polygon fill=\"black\" points=\"108,-849.529 104.5,-839.529 101,-849.529 108,-849.529\" stroke=\"black\"/>\n",
       "</g>\n",
       "</g>\n",
       "</svg>"
      ],
      "text/plain": [
       "<IPython.core.display.SVG object>"
      ]
     },
     "execution_count": 11,
     "metadata": {},
     "output_type": "execute_result"
    }
   ],
   "source": [
    "from IPython.display import SVG\n",
    "from keras.utils.vis_utils import model_to_dot\n",
    "\n",
    "SVG(model_to_dot(model).create(prog='dot', format='svg'))\n"
   ]
  },
  {
   "cell_type": "code",
   "execution_count": 12,
   "metadata": {},
   "outputs": [],
   "source": [
    "model.compile(loss='categorical_crossentropy', optimizer='adam', metrics=['accuracy'])"
   ]
  },
  {
   "cell_type": "markdown",
   "metadata": {},
   "source": [
    "Lets now run the model through 30 epochs and see how well our initial CNN does. We will train the above network on 8,000 images and validate each epochs on 2,000 validating images."
   ]
  },
  {
   "cell_type": "code",
   "execution_count": 13,
   "metadata": {
    "scrolled": true
   },
   "outputs": [
    {
     "name": "stdout",
     "output_type": "stream",
     "text": [
      "Train on 8000 samples, validate on 2000 samples\n",
      "Epoch 1/30\n",
      "8000/8000 [==============================] - 91s 11ms/step - loss: 2.2261 - acc: 0.3786 - val_loss: 0.8806 - val_acc: 0.7600\n",
      "Epoch 2/30\n",
      "8000/8000 [==============================] - 94s 12ms/step - loss: 0.6932 - acc: 0.7794 - val_loss: 0.3437 - val_acc: 0.9070\n",
      "Epoch 3/30\n",
      "8000/8000 [==============================] - 95s 12ms/step - loss: 0.3428 - acc: 0.8879 - val_loss: 0.2251 - val_acc: 0.9385\n",
      "Epoch 4/30\n",
      "8000/8000 [==============================] - 94s 12ms/step - loss: 0.2326 - acc: 0.9230 - val_loss: 0.1748 - val_acc: 0.9450\n",
      "Epoch 5/30\n",
      "8000/8000 [==============================] - 91s 11ms/step - loss: 0.1756 - acc: 0.9425 - val_loss: 0.1400 - val_acc: 0.9580\n",
      "Epoch 6/30\n",
      "8000/8000 [==============================] - 92s 11ms/step - loss: 0.1385 - acc: 0.9541 - val_loss: 0.1465 - val_acc: 0.9575\n",
      "Epoch 7/30\n",
      "8000/8000 [==============================] - 91s 11ms/step - loss: 0.1097 - acc: 0.9630 - val_loss: 0.1597 - val_acc: 0.9550\n",
      "Epoch 8/30\n",
      "8000/8000 [==============================] - 91s 11ms/step - loss: 0.0822 - acc: 0.9740 - val_loss: 0.1176 - val_acc: 0.9720\n",
      "Epoch 9/30\n",
      "8000/8000 [==============================] - 94s 12ms/step - loss: 0.0671 - acc: 0.9759 - val_loss: 0.1202 - val_acc: 0.9680\n",
      "Epoch 10/30\n",
      "8000/8000 [==============================] - 93s 12ms/step - loss: 0.0682 - acc: 0.9765 - val_loss: 0.1467 - val_acc: 0.9645\n",
      "Epoch 11/30\n",
      "8000/8000 [==============================] - 94s 12ms/step - loss: 0.0645 - acc: 0.9788 - val_loss: 0.1129 - val_acc: 0.9710\n",
      "Epoch 12/30\n",
      "8000/8000 [==============================] - 93s 12ms/step - loss: 0.0545 - acc: 0.9820 - val_loss: 0.1109 - val_acc: 0.9735\n",
      "Epoch 13/30\n",
      "8000/8000 [==============================] - 93s 12ms/step - loss: 0.0495 - acc: 0.9836 - val_loss: 0.1062 - val_acc: 0.9730\n",
      "Epoch 14/30\n",
      "8000/8000 [==============================] - 92s 12ms/step - loss: 0.0574 - acc: 0.9826 - val_loss: 0.1237 - val_acc: 0.9700\n",
      "Epoch 15/30\n",
      "8000/8000 [==============================] - 93s 12ms/step - loss: 0.0517 - acc: 0.9835 - val_loss: 0.1310 - val_acc: 0.9705\n",
      "Epoch 16/30\n",
      "8000/8000 [==============================] - 91s 11ms/step - loss: 0.0465 - acc: 0.9850 - val_loss: 0.0995 - val_acc: 0.9790\n",
      "Epoch 17/30\n",
      "8000/8000 [==============================] - 94s 12ms/step - loss: 0.0378 - acc: 0.9880 - val_loss: 0.1066 - val_acc: 0.9765\n",
      "Epoch 18/30\n",
      "8000/8000 [==============================] - 95s 12ms/step - loss: 0.0417 - acc: 0.9866 - val_loss: 0.0999 - val_acc: 0.9785\n",
      "Epoch 19/30\n",
      "8000/8000 [==============================] - 91s 11ms/step - loss: 0.0439 - acc: 0.9855 - val_loss: 0.0959 - val_acc: 0.9780\n",
      "Epoch 20/30\n",
      "8000/8000 [==============================] - 91s 11ms/step - loss: 0.0285 - acc: 0.9899 - val_loss: 0.1136 - val_acc: 0.9765\n",
      "Epoch 21/30\n",
      "8000/8000 [==============================] - 92s 11ms/step - loss: 0.0445 - acc: 0.9868 - val_loss: 0.1097 - val_acc: 0.9760\n",
      "Epoch 22/30\n",
      "8000/8000 [==============================] - 89s 11ms/step - loss: 0.0490 - acc: 0.9864 - val_loss: 0.0965 - val_acc: 0.9760\n",
      "Epoch 23/30\n",
      "8000/8000 [==============================] - 88s 11ms/step - loss: 0.0324 - acc: 0.9902 - val_loss: 0.0970 - val_acc: 0.9770\n",
      "Epoch 24/30\n",
      "8000/8000 [==============================] - 88s 11ms/step - loss: 0.0287 - acc: 0.9909 - val_loss: 0.1145 - val_acc: 0.9735\n",
      "Epoch 25/30\n",
      "8000/8000 [==============================] - 88s 11ms/step - loss: 0.0255 - acc: 0.9921 - val_loss: 0.1167 - val_acc: 0.9710\n",
      "Epoch 26/30\n",
      "8000/8000 [==============================] - 87s 11ms/step - loss: 0.0408 - acc: 0.9892 - val_loss: 0.1200 - val_acc: 0.9750\n",
      "Epoch 27/30\n",
      "8000/8000 [==============================] - 87s 11ms/step - loss: 0.0262 - acc: 0.9911 - val_loss: 0.0966 - val_acc: 0.9810\n",
      "Epoch 28/30\n",
      "8000/8000 [==============================] - 88s 11ms/step - loss: 0.0300 - acc: 0.9900 - val_loss: 0.1046 - val_acc: 0.9760\n",
      "Epoch 29/30\n",
      "8000/8000 [==============================] - 88s 11ms/step - loss: 0.0351 - acc: 0.9888 - val_loss: 0.1090 - val_acc: 0.9765\n",
      "Epoch 30/30\n",
      "8000/8000 [==============================] - 88s 11ms/step - loss: 0.0266 - acc: 0.9911 - val_loss: 0.1383 - val_acc: 0.9730\n"
     ]
    }
   ],
   "source": [
    "history = model.fit(X1, Y1, batch_size=32, epochs=30, validation_split=0.2)"
   ]
  },
  {
   "cell_type": "code",
   "execution_count": 14,
   "metadata": {},
   "outputs": [
    {
     "data": {
      "image/png": "[encoded data removed]",
      "text/plain": [
       "<Figure size 432x288 with 1 Axes>"
      ]
     },
     "metadata": {
      "needs_background": "light"
     },
     "output_type": "display_data"
    },
    {
     "data": {
      "image/png": "[encoded data removed]",
      "text/plain": [
       "<Figure size 432x288 with 1 Axes>"
      ]
     },
     "metadata": {
      "needs_background": "light"
     },
     "output_type": "display_data"
    }
   ],
   "source": [
    "acc = history.history['acc']\n",
    "val_acc = history.history['val_acc']\n",
    "loss = history.history['loss']\n",
    "val_loss = history.history['val_loss']\n",
    "epochs = range(len(acc))\n",
    "plt.plot(epochs, acc, 'bo', label='Training acc')\n",
    "plt.plot(epochs, val_acc, 'b', label='Validation acc')\n",
    "plt.title('Training and validation accuracy')\n",
    "plt.legend()\n",
    "plt.figure()\n",
    "plt.plot(epochs, loss, 'bo', label='Training loss')\n",
    "plt.plot(epochs, val_loss, 'b', label='Validation loss')\n",
    "plt.title('Training and validation loss')\n",
    "plt.legend()\n",
    "plt.show()"
   ]
  },
  {
   "cell_type": "markdown",
   "metadata": {},
   "source": [
    "As you can see, after running 30 epochs of backpropogation and forward propogation, we are getting an accuracy with our validation data around 97%! Given the limitations of the machine at my disposal, I think that this network is a solid start and we can move forward and test it on separate testing images. Lets now test this CNN on our testing data and see how accurate our network is.\n",
    "\n",
    "My appraoch will be to use the CSV file of the labeling testing data to compare what our CNN will classify these images to what they truly are."
   ]
  },
  {
   "cell_type": "code",
   "execution_count": 15,
   "metadata": {},
   "outputs": [],
   "source": [
    "df = pd.read_csv('GTSRB/GT-final_test.csv', sep=';')\n",
    "\n",
    "# Load test images\n",
    "X_test = []\n",
    "y_test = []\n",
    "i = 0\n",
    "for file_name, class_id in zip(list(df['Filename']), list(df['ClassId'])):\n",
    "    img_path = os.path.join('GTSRB/Final_Test/Images/', file_name)\n",
    "    X_test.append(preprocess(io.imread(img_path)))\n",
    "    y_test.append(class_id)"
   ]
  },
  {
   "cell_type": "code",
   "execution_count": 17,
   "metadata": {},
   "outputs": [
    {
     "name": "stdout",
     "output_type": "stream",
     "text": [
      "Test images accuracy = 0.938479809976247\n"
     ]
    }
   ],
   "source": [
    "# evaluate test\n",
    "X_test = np.array(X_test)\n",
    "y_test = np.array(y_test)\n",
    "y_pred = model.predict_classes(X_test)\n",
    "acc = np.sum(y_pred == y_test) / np.size(y_pred)\n",
    "print(\"Test images accuracy = {}\".format(acc))"
   ]
  },
  {
   "cell_type": "markdown",
   "metadata": {},
   "source": [
    "This CNN when used on our testing data results in a 94% accuracy."
   ]
  },
  {
   "cell_type": "markdown",
   "metadata": {},
   "source": [
    "As we can see above, a convolutional neural network with a few layers can get a pretty high accuracy given enough images to train on. If provided a machine with more computing power, and more time to work on this type of project there are a few more things I would like to experiment on:\n",
    "\n",
    "1) Training a deeper neural network to increase our accuracy - given this would be used in a self driving car, we need very slim amount of error to reduce accidents.\n",
    "\n",
    "2) Testing our CNN on augmented data to test for all angles, and shapes a car my capture in scanning for traffic signs while driving."
   ]
  }
 ],
 "metadata": {
  "kernelspec": {
   "display_name": "Python 3",
   "language": "python",
   "name": "python3"
  },
  "language_info": {
   "codemirror_mode": {
    "name": "ipython",
    "version": 3
   },
   "file_extension": ".py",
   "mimetype": "text/x-python",
   "name": "python",
   "nbconvert_exporter": "python",
   "pygments_lexer": "ipython3",
   "version": "3.6.7"
  }
 },
 "nbformat": 4,
 "nbformat_minor": 2
}
